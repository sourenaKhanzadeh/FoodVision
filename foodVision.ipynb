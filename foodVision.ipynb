{
 "cells": [
  {
   "cell_type": "code",
   "execution_count": 1,
   "metadata": {},
   "outputs": [],
   "source": [
    "from helper import create_tensorboard_callback, plot_loss_curves, compare_historys"
   ]
  }
 ],
 "metadata": {
  "kernelspec": {
   "display_name": "tf10",
   "language": "python",
   "name": "python3"
  },
  "language_info": {
   "codemirror_mode": {
    "name": "ipython",
    "version": 3
   },
   "file_extension": ".py",
   "mimetype": "text/x-python",
   "name": "python",
   "nbconvert_exporter": "python",
   "pygments_lexer": "ipython3",
   "version": "3.10.9"
  },
  "orig_nbformat": 4,
  "vscode": {
   "interpreter": {
    "hash": "5d93805ce5ee254e9043f7eb101e592a3003cf28fae70ffcb2f77a926e3ee0f1"
   }
  }
 },
 "nbformat": 4,
 "nbformat_minor": 2
}
